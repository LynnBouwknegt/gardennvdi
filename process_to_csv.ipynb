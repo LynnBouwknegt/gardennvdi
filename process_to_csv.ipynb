{
 "cells": [
  {
   "cell_type": "code",
   "execution_count": 1,
   "metadata": {},
   "outputs": [],
   "source": [
    "from src.ndvi import get_yard_data, process_image\n",
    "import rasterio\n",
    "import numpy as np\n",
    "import pandas as pd\n",
    "\n",
    "\n",
    "import warnings\n",
    "warnings.filterwarnings(\"ignore\")\n",
    "\n",
    "input_dir = '/mnt/data/bouwknegtl/aerialphotos'"
   ]
  },
  {
   "cell_type": "code",
   "execution_count": null,
   "metadata": {},
   "outputs": [],
   "source": [
    "### Load data and process the images \n",
    "years = [2016, 2023]\n",
    "result_dataset = []\n",
    "for count, year in enumerate(years):\n",
    "    print('Loading ', year)\n",
    "    # load the aerial images and get the geo bounds\n",
    "    input_aerial_cir = input_dir + f'/{year}_CIR_breda1.tif'\n",
    "    aeriel_cir = rasterio.open(input_aerial_cir)\n",
    "    if count > 0:\n",
    "        assert aeriel_cir.bounds == bounds, \"The bounds of the images are not the same over the years\"\n",
    "    bounds = tuple(aeriel_cir.bounds)\n",
    "    if count == 0:\n",
    "        yard_data = get_yard_data(bounds)\n",
    "    year_data = process_image(yard_data, aeriel_cir)\n",
    "    year_data = year_data.drop(['clipped_cir', 'ndvi', 'affine_transform'], axis=1)\n",
    "    result_dataset.append(year_data)\n",
    "    print('Done')\n",
    "\n",
    "\n",
    "df = pd.concat(result_dataset, keys=years, names=['year'])\n",
    "df = df.reset_index()\n",
    "df.to_csv('data/combined_data.csv', index=False)"
   ]
  },
  {
   "cell_type": "code",
   "execution_count": null,
   "metadata": {},
   "outputs": [],
   "source": []
  }
 ],
 "metadata": {
  "kernelspec": {
   "display_name": "default",
   "language": "python",
   "name": "python3"
  },
  "language_info": {
   "codemirror_mode": {
    "name": "ipython",
    "version": 3
   },
   "file_extension": ".py",
   "mimetype": "text/x-python",
   "name": "python",
   "nbconvert_exporter": "python",
   "pygments_lexer": "ipython3",
   "version": "3.12.8"
  }
 },
 "nbformat": 4,
 "nbformat_minor": 2
}
